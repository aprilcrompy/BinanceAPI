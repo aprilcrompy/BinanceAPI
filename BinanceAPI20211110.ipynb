{
 "cells": [
  {
   "cell_type": "markdown",
   "metadata": {
    "slideshow": {
     "slide_type": "slide"
    }
   },
   "source": [
    "# PROLOGUE\n",
    "* Before setting up your requests, secure a Binance account https://www.binance.us/en/home  \n",
    "* and create an API https://www.binance.us/en/usercenter/settings/api-management be sure to save the secret key immediately, as it will never be displayed after the first time\n",
    "* Refer to https://binance-docs.github.io/apidocs/ and https://github.com/sammchardy/python-binance/blob/master/binance/client.py to step through the API functionality"
   ]
  },
  {
   "cell_type": "markdown",
   "metadata": {
    "slideshow": {
     "slide_type": "slide"
    }
   },
   "source": [
    "# SETUP\n",
    "## Import modules"
   ]
  },
  {
   "cell_type": "code",
   "execution_count": 54,
   "metadata": {
    "collapsed": true,
    "slideshow": {
     "slide_type": "slide"
    }
   },
   "outputs": [],
   "source": [
    "# for all \n",
    "import requests\n",
    "import BinanceK # this is my .py file with secret code\n",
    "\n",
    "# for POST, PUT, DELETE transactions on Trade, Margin and User Data:\n",
    "from urllib.parse import urlencode # Convert a mapping object or a sequence of two-element tuples, which may contain str or bytes objects, to a percent-encoded ASCII text string.  https://docs.python.org/3/library/urllib.parse.html#urllib.parse.urlencode\n",
    "import hashlib # will handle hashing any raw message in an encrypted format https://www.askpython.com/python-modules/python-hashlib-module\n",
    "import hmac # message authentication for MD5, SHA-1, in combination with a secret shared key. https://www.geeksforgeeks.org/hmac-keyed-hashing-message-authentication/"
   ]
  },
  {
   "cell_type": "code",
   "execution_count": 55,
   "metadata": {
    "collapsed": true,
    "slideshow": {
     "slide_type": "slide"
    }
   },
   "outputs": [
    {
     "name": "stdout",
     "output_type": "stream",
     "text": [
      "64\n",
      "64\n"
     ]
    }
   ],
   "source": [
    "# Check for Keys\n",
    "print(len(BinanceK.secretK))\n",
    "print(len(BinanceK.clientcode))"
   ]
  },
  {
   "cell_type": "markdown",
   "metadata": {
    "slideshow": {
     "slide_type": "slide"
    }
   },
   "source": [
    "# GET DATA\n",
    "## Connect to Binance\n",
    "Connect to Binance RESTful APIs.  Data is returned in JSON format."
   ]
  },
  {
   "cell_type": "code",
   "execution_count": 4,
   "metadata": {
    "collapsed": true,
    "slideshow": {
     "slide_type": "slide"
    }
   },
   "outputs": [
    {
     "name": "stdout",
     "output_type": "stream",
     "text": [
      "https://api.binance.com/api/v3/time\n",
      "200\n"
     ]
    },
    {
     "data": {
      "text/plain": [
       "{'serverTime': 1636503328400}"
      ]
     },
     "execution_count": 4,
     "metadata": {},
     "output_type": "execute_result"
    }
   ],
   "source": [
    "# NO Security Key Needed for server time\n",
    "base_url = \"https://api.binance.com\"\n",
    "url_end =  \"/api/v3/time\"\n",
    "url = base_url + url_end\n",
    "print(url)\n",
    "headers = {\n",
    "            'Accept': 'application/json',\n",
    "            'User-Agent': 'Mozilla/5.0 (X11; Linux x86_64) AppleWebKit/537.36 (KHTML, like Gecko) Chrome/56.0.2924.87 Safari/537.36', \n",
    "        } # ref def _get_headers https://github.com/sammchardy/python-binance/blob/master/binance/client.py\n",
    "\n",
    "response = requests.request(\"GET\", url, headers=headers)\n",
    "print(response.status_code) # Check the status of the endpoint\n",
    "SvrTime = response.json()\n",
    "SvrTime"
   ]
  },
  {
   "cell_type": "code",
   "execution_count": 5,
   "metadata": {
    "collapsed": true,
    "slideshow": {
     "slide_type": "slide"
    }
   },
   "outputs": [
    {
     "name": "stdout",
     "output_type": "stream",
     "text": [
      "https://api.binance.com/api/v3/depth\n",
      "200\n"
     ]
    },
    {
     "data": {
      "text/plain": [
       "{'lastUpdateId': 14893393475,\n",
       " 'bids': [['67151.45000000', '0.06800000'],\n",
       "  ['67150.00000000', '0.01491000'],\n",
       "  ['67146.79000000', '0.00372000'],\n",
       "  ['67145.38000000', '0.00034000'],\n",
       "  ['67143.27000000', '0.06800000'],\n",
       "  ['67142.83000000', '0.11160000'],\n",
       "  ['67141.46000000', '0.05807000'],\n",
       "  ['67141.45000000', '0.15391000'],\n",
       "  ['67141.01000000', '0.22397000'],\n",
       "  ['67140.03000000', '0.03452000'],\n",
       "  ['67139.89000000', '0.20000000'],\n",
       "  ['67139.54000000', '0.23000000'],\n",
       "  ['67139.05000000', '0.02500000'],\n",
       "  ['67137.93000000', '0.00104000'],\n",
       "  ['67137.60000000', '0.25611000'],\n",
       "  ['67134.87000000', '0.00186000'],\n",
       "  ['67134.37000000', '0.00016000'],\n",
       "  ['67132.94000000', '0.05000000'],\n",
       "  ['67132.24000000', '0.14299000'],\n",
       "  ['67132.23000000', '0.11164000'],\n",
       "  ['67132.18000000', '0.00074000'],\n",
       "  ['67131.79000000', '0.00372000'],\n",
       "  ['67131.70000000', '0.01030000'],\n",
       "  ['67131.65000000', '0.01000000'],\n",
       "  ['67131.14000000', '0.03000000'],\n",
       "  ['67131.13000000', '0.24191000'],\n",
       "  ['67130.69000000', '0.00744000'],\n",
       "  ['67129.72000000', '0.38648000'],\n",
       "  ['67129.71000000', '0.04000000'],\n",
       "  ['67129.15000000', '0.99624000'],\n",
       "  ['67129.14000000', '0.06800000'],\n",
       "  ['67128.23000000', '0.78100000'],\n",
       "  ['67127.86000000', '0.02516000'],\n",
       "  ['67127.29000000', '0.78100000'],\n",
       "  ['67126.65000000', '0.94700000'],\n",
       "  ['67126.53000000', '0.02978000'],\n",
       "  ['67123.86000000', '0.15102000'],\n",
       "  ['67118.95000000', '0.01162000'],\n",
       "  ['67117.01000000', '0.20000000'],\n",
       "  ['67116.99000000', '0.35330000'],\n",
       "  ['67116.59000000', '0.03000000'],\n",
       "  ['67115.62000000', '0.13808000'],\n",
       "  ['67114.39000000', '0.03271000'],\n",
       "  ['67113.31000000', '0.02300000'],\n",
       "  ['67113.05000000', '0.20000000'],\n",
       "  ['67112.81000000', '0.00372000'],\n",
       "  ['67112.47000000', '0.01000000'],\n",
       "  ['67112.38000000', '0.42094000'],\n",
       "  ['67111.44000000', '0.14884000'],\n",
       "  ['67108.80000000', '0.05000000'],\n",
       "  ['67108.79000000', '0.00052000'],\n",
       "  ['67104.23000000', '0.06326000'],\n",
       "  ['67100.88000000', '0.12186000'],\n",
       "  ['67100.74000000', '0.13808000'],\n",
       "  ['67100.57000000', '0.37000000'],\n",
       "  ['67100.00000000', '0.00034000'],\n",
       "  ['67098.91000000', '0.04471000'],\n",
       "  ['67098.90000000', '0.06143000'],\n",
       "  ['67097.63000000', '0.15000000'],\n",
       "  ['67097.53000000', '0.04654000'],\n",
       "  ['67094.59000000', '0.00500000'],\n",
       "  ['67093.94000000', '0.06800000'],\n",
       "  ['67093.56000000', '0.06177000'],\n",
       "  ['67092.32000000', '0.00059000'],\n",
       "  ['67092.16000000', '0.30000000'],\n",
       "  ['67091.58000000', '0.20000000'],\n",
       "  ['67090.84000000', '0.09000000'],\n",
       "  ['67088.22000000', '0.06435000'],\n",
       "  ['67086.97000000', '0.46000000'],\n",
       "  ['67086.48000000', '0.02300000'],\n",
       "  ['67085.55000000', '0.04293000'],\n",
       "  ['67082.85000000', '0.06202000'],\n",
       "  ['67081.91000000', '0.24542000'],\n",
       "  ['67078.83000000', '0.00372000'],\n",
       "  ['67078.77000000', '0.06602000'],\n",
       "  ['67078.75000000', '0.05528000'],\n",
       "  ['67078.71000000', '0.07217000'],\n",
       "  ['67078.02000000', '0.09500000'],\n",
       "  ['67077.59000000', '0.06122000'],\n",
       "  ['67074.40000000', '0.05813000'],\n",
       "  ['67074.07000000', '0.15000000'],\n",
       "  ['67073.16000000', '0.00490000'],\n",
       "  ['67072.69000000', '0.04532000'],\n",
       "  ['67072.61000000', '0.00035000'],\n",
       "  ['67072.33000000', '0.06151000'],\n",
       "  ['67070.17000000', '0.00776000'],\n",
       "  ['67068.48000000', '0.06845000'],\n",
       "  ['67067.90000000', '0.03881000'],\n",
       "  ['67067.27000000', '0.06355000'],\n",
       "  ['67066.89000000', '0.00186000'],\n",
       "  ['67063.81000000', '0.00372000'],\n",
       "  ['67062.35000000', '0.04680000'],\n",
       "  ['67062.21000000', '0.06114000'],\n",
       "  ['67061.66000000', '0.15102000'],\n",
       "  ['67061.58000000', '0.00030000'],\n",
       "  ['67061.22000000', '0.00020000'],\n",
       "  ['67061.10000000', '0.00035000'],\n",
       "  ['67059.09000000', '0.01192000'],\n",
       "  ['67057.22000000', '0.00745000'],\n",
       "  ['67057.15000000', '0.06249000']],\n",
       " 'asks': [['67158.18000000', '2.48491000'],\n",
       "  ['67158.99000000', '0.00743000'],\n",
       "  ['67159.00000000', '2.14020000'],\n",
       "  ['67159.01000000', '0.53020000'],\n",
       "  ['67161.72000000', '0.07445000'],\n",
       "  ['67163.50000000', '0.51075000'],\n",
       "  ['67163.52000000', '1.03020000'],\n",
       "  ['67164.11000000', '0.12000000'],\n",
       "  ['67168.12000000', '0.05807000'],\n",
       "  ['67170.22000000', '0.36682000'],\n",
       "  ['67170.24000000', '0.06800000'],\n",
       "  ['67171.73000000', '0.03000000'],\n",
       "  ['67172.26000000', '0.02044000'],\n",
       "  ['67174.81000000', '0.05807000'],\n",
       "  ['67174.82000000', '0.03020000'],\n",
       "  ['67176.63000000', '0.09374000'],\n",
       "  ['67178.34000000', '0.00744000'],\n",
       "  ['67181.54000000', '0.26867000'],\n",
       "  ['67181.55000000', '0.06800000'],\n",
       "  ['67182.50000000', '0.42977000'],\n",
       "  ['67182.81000000', '0.26970000'],\n",
       "  ['67184.69000000', '0.12000000'],\n",
       "  ['67188.10000000', '0.22231000'],\n",
       "  ['67188.11000000', '0.05684000'],\n",
       "  ['67189.24000000', '0.32688000'],\n",
       "  ['67189.25000000', '0.25135000'],\n",
       "  ['67191.31000000', '0.07443000'],\n",
       "  ['67191.67000000', '0.04213000'],\n",
       "  ['67191.70000000', '0.26122000'],\n",
       "  ['67192.21000000', '0.06800000'],\n",
       "  ['67193.07000000', '0.25604000'],\n",
       "  ['67194.07000000', '0.10886000'],\n",
       "  ['67194.10000000', '0.04091000'],\n",
       "  ['67194.55000000', '0.20000000'],\n",
       "  ['67195.73000000', '0.22095000'],\n",
       "  ['67195.94000000', '0.34000000'],\n",
       "  ['67196.42000000', '0.14888000'],\n",
       "  ['67196.65000000', '0.03020000'],\n",
       "  ['67197.28000000', '0.20000000'],\n",
       "  ['67197.65000000', '0.44472000'],\n",
       "  ['67197.66000000', '2.28931000'],\n",
       "  ['67198.16000000', '2.10035000'],\n",
       "  ['67199.54000000', '0.53875000'],\n",
       "  ['67201.60000000', '2.10000000'],\n",
       "  ['67202.15000000', '0.20000000'],\n",
       "  ['67202.29000000', '0.37000000'],\n",
       "  ['67203.91000000', '0.30223000'],\n",
       "  ['67204.18000000', '0.05362000'],\n",
       "  ['67204.89000000', '0.06800000'],\n",
       "  ['67205.59000000', '0.01000000'],\n",
       "  ['67206.66000000', '0.09138000'],\n",
       "  ['67207.10000000', '0.04570000'],\n",
       "  ['67207.66000000', '0.04176000'],\n",
       "  ['67208.36000000', '0.10000000'],\n",
       "  ['67208.89000000', '0.20000000'],\n",
       "  ['67209.36000000', '0.10866000'],\n",
       "  ['67211.40000000', '0.07000000'],\n",
       "  ['67211.66000000', '0.06968000'],\n",
       "  ['67212.05000000', '0.00030000'],\n",
       "  ['67212.65000000', '0.15452000'],\n",
       "  ['67213.00000000', '0.04000000'],\n",
       "  ['67213.38000000', '0.01818000'],\n",
       "  ['67217.46000000', '0.13989000'],\n",
       "  ['67218.20000000', '0.05062000'],\n",
       "  ['67220.65000000', '0.08908000'],\n",
       "  ['67220.71000000', '0.06800000'],\n",
       "  ['67220.92000000', '0.04207000'],\n",
       "  ['67221.13000000', '0.07591000'],\n",
       "  ['67223.76000000', '0.32894000'],\n",
       "  ['67224.00000000', '0.10000000'],\n",
       "  ['67225.26000000', '0.04208000'],\n",
       "  ['67226.92000000', '0.06444000'],\n",
       "  ['67227.01000000', '0.03020000'],\n",
       "  ['67227.44000000', '0.06800000'],\n",
       "  ['67231.81000000', '0.05920000'],\n",
       "  ['67232.16000000', '0.15000000'],\n",
       "  ['67233.80000000', '0.11970000'],\n",
       "  ['67233.97000000', '0.12000000'],\n",
       "  ['67234.53000000', '0.09973000'],\n",
       "  ['67235.44000000', '0.04959000'],\n",
       "  ['67235.77000000', '0.00343000'],\n",
       "  ['67236.01000000', '0.07386000'],\n",
       "  ['67237.26000000', '0.33606000'],\n",
       "  ['67237.63000000', '0.07441000'],\n",
       "  ['67237.87000000', '0.06420000'],\n",
       "  ['67238.63000000', '0.06800000'],\n",
       "  ['67238.91000000', '0.04502000'],\n",
       "  ['67239.90000000', '0.30000000'],\n",
       "  ['67240.00000000', '0.00587000'],\n",
       "  ['67240.02000000', '0.46000000'],\n",
       "  ['67240.18000000', '0.00057000'],\n",
       "  ['67240.20000000', '1.48488000'],\n",
       "  ['67240.50000000', '0.00060000'],\n",
       "  ['67241.92000000', '0.03452000'],\n",
       "  ['67242.34000000', '0.10428000'],\n",
       "  ['67242.42000000', '0.00264000'],\n",
       "  ['67242.61000000', '0.00480000'],\n",
       "  ['67243.29000000', '0.00065000'],\n",
       "  ['67243.31000000', '0.00490000'],\n",
       "  ['67243.66000000', '0.00025000']]}"
      ]
     },
     "execution_count": 5,
     "metadata": {},
     "output_type": "execute_result"
    }
   ],
   "source": [
    "# API Key needed for Market data\n",
    "base_url = \"https://api.binance.com\"\n",
    "url_end = \"/api/v3/depth\"\n",
    "url = base_url + url_end\n",
    "headers = {\n",
    "            'Accept': 'application/json',\n",
    "            'User-Agent': 'Mozilla/5.0 (X11; Linux x86_64) AppleWebKit/537.36 (KHTML, like Gecko) Chrome/56.0.2924.87 Safari/537.36', \n",
    "        } # ref def _get_headers https://github.com/sammchardy/python-binance/blob/master/binance/client.py\n",
    "# Set API-Key\n",
    "headers['X-MBX-APIKEY'] = BinanceK.clientcode # ref Endpoint Security Type https://binance-docs.github.io/apidocs/spot/en/#endpoint-security-type\n",
    "\n",
    "# Set Parameters\n",
    "parameters = {'symbol':'BTCUSDT'}\n",
    "\n",
    "response = requests.request(\"GET\", url, headers=headers, params=parameters)\n",
    "print(response.status_code) # Check the status of the endpoint\n",
    "Depth = response.json()\n",
    "Depth"
   ]
  },
  {
   "cell_type": "markdown",
   "metadata": {
    "slideshow": {
     "slide_type": "slide"
    }
   },
   "source": [
    "## Define a function for repeatable data retrieval"
   ]
  },
  {
   "cell_type": "code",
   "execution_count": 32,
   "metadata": {
    "collapsed": true,
    "slideshow": {
     "slide_type": "slide"
    }
   },
   "outputs": [],
   "source": [
    "## Function to return data from binance endpoints\n",
    "def binance_response(endpoint_url, **prams):\n",
    "    base_url = \"https://api.binance.com\"\n",
    "    url_end = endpoint_url\n",
    "    url = base_url + url_end\n",
    "    print(\"Returning\", url)\n",
    "    headers = {\n",
    "            'Accept': 'application/json',\n",
    "            'User-Agent': 'Mozilla/5.0 (X11; Linux x86_64) AppleWebKit/537.36 (KHTML, like Gecko) Chrome/56.0.2924.87 Safari/537.36',  # noqa\n",
    "        }\n",
    "    headers['X-MBX-APIKEY'] = BinanceK.clientcode\n",
    "    parameters = {**prams}\n",
    "    response = requests.request(\"GET\", url, headers=headers, params=parameters)\n",
    "    status = response.status_code\n",
    "    print(\"Status Code\", status)\n",
    "    if status < 300 or status > 500: # binance internal error codes are in the 500 series\n",
    "        json_fmt = response.json()\n",
    "        return json_fmt"
   ]
  },
  {
   "cell_type": "markdown",
   "metadata": {
    "slideshow": {
     "slide_type": "slide"
    }
   },
   "source": [
    "#### Explore endpoints\n",
    "There are so many endpoints (4 Categories, 15 Subcategories within Spot/Margin)"
   ]
  },
  {
   "cell_type": "code",
   "execution_count": 3,
   "metadata": {
    "collapsed": true,
    "slideshow": {
     "slide_type": "slide"
    }
   },
   "outputs": [],
   "source": [
    "# Import Pandas for storing endpoint data\n",
    "import pandas as pd\n"
   ]
  },
  {
   "cell_type": "code",
   "execution_count": 36,
   "metadata": {
    "collapsed": true,
    "slideshow": {
     "slide_type": "slide"
    }
   },
   "outputs": [
    {
     "name": "stdout",
     "output_type": "stream",
     "text": [
      "Returning https://api.binance.com/api/v3/depth\n",
      "Status Code 200\n"
     ]
    }
   ],
   "source": [
    "# Run the function to get Orders data\n",
    "depth = binance_response(\"/api/v3/depth\", **{'symbol':'BTCUSDT'})"
   ]
  },
  {
   "cell_type": "code",
   "execution_count": 37,
   "metadata": {
    "collapsed": true,
    "slideshow": {
     "slide_type": "slide"
    }
   },
   "outputs": [
    {
     "data": {
      "text/plain": [
       "{'lastUpdateId': 14899618377,\n",
       " 'bids': [['66760.00000000', '2.76952000'],\n",
       "  ['66759.98000000', '0.00313000'],\n",
       "  ['66759.96000000', '0.00313000'],\n",
       "  ['66756.77000000', '0.00066000'],\n",
       "  ['66753.76000000', '0.10567000'],\n",
       "  ['66753.75000000', '0.01972000'],\n",
       "  ['66753.32000000', '0.06800000'],\n",
       "  ['66749.55000000', '0.03286000'],\n",
       "  ['66749.54000000', '0.09374000'],\n",
       "  ['66745.90000000', '0.03140000'],\n",
       "  ['66745.89000000', '0.06800000'],\n",
       "  ['66745.28000000', '0.01000000'],\n",
       "  ['66745.19000000', '0.02147000'],\n",
       "  ['66743.34000000', '0.07489000'],\n",
       "  ['66741.65000000', '0.05842000'],\n",
       "  ['66740.01000000', '0.05842000'],\n",
       "  ['66739.40000000', '0.03000000'],\n",
       "  ['66738.07000000', '0.01193000'],\n",
       "  ['66736.57000000', '0.09785000'],\n",
       "  ['66735.33000000', '0.18559000'],\n",
       "  ['66735.17000000', '0.00749000'],\n",
       "  ['66735.03000000', '0.25856000'],\n",
       "  ['66734.68000000', '0.00063000'],\n",
       "  ['66733.61000000', '0.11233000'],\n",
       "  ['66733.15000000', '0.06800000'],\n",
       "  ['66732.16000000', '0.02500000'],\n",
       "  ['66730.93000000', '0.04000000'],\n",
       "  ['66730.28000000', '0.08000000'],\n",
       "  ['66729.90000000', '0.00354000'],\n",
       "  ['66729.61000000', '0.13158000'],\n",
       "  ['66729.60000000', '0.05000000'],\n",
       "  ['66729.22000000', '0.20000000'],\n",
       "  ['66729.16000000', '0.02996000'],\n",
       "  ['66728.28000000', '0.12596000'],\n",
       "  ['66727.56000000', '0.25000000'],\n",
       "  ['66727.37000000', '0.17859000'],\n",
       "  ['66727.36000000', '0.05000000'],\n",
       "  ['66727.00000000', '0.00875000'],\n",
       "  ['66726.62000000', '0.25769000'],\n",
       "  ['66726.00000000', '0.16115000'],\n",
       "  ['66725.99000000', '0.19000000'],\n",
       "  ['66725.85000000', '0.09000000'],\n",
       "  ['66725.66000000', '0.15000000'],\n",
       "  ['66725.63000000', '0.03000000'],\n",
       "  ['66725.00000000', '0.00030000'],\n",
       "  ['66723.71000000', '0.14977000'],\n",
       "  ['66723.65000000', '0.14981000'],\n",
       "  ['66723.47000000', '0.01000000'],\n",
       "  ['66723.40000000', '0.00225000'],\n",
       "  ['66723.31000000', '0.03003000'],\n",
       "  ['66723.24000000', '0.43781000'],\n",
       "  ['66722.91000000', '0.96856000'],\n",
       "  ['66722.90000000', '0.10000000'],\n",
       "  ['66721.61000000', '0.20013000'],\n",
       "  ['66721.60000000', '0.06800000'],\n",
       "  ['66720.99000000', '0.26674000'],\n",
       "  ['66720.71000000', '0.17000000'],\n",
       "  ['66720.69000000', '0.03364000'],\n",
       "  ['66720.57000000', '0.30000000'],\n",
       "  ['66719.77000000', '0.04215000'],\n",
       "  ['66719.62000000', '0.01928000'],\n",
       "  ['66719.52000000', '0.20000000'],\n",
       "  ['66719.03000000', '0.10294000'],\n",
       "  ['66718.78000000', '0.54016000'],\n",
       "  ['66718.04000000', '0.36014000'],\n",
       "  ['66717.52000000', '0.46000000'],\n",
       "  ['66715.72000000', '0.02477000'],\n",
       "  ['66715.02000000', '0.00282000'],\n",
       "  ['66714.90000000', '0.05000000'],\n",
       "  ['66714.61000000', '0.10000000'],\n",
       "  ['66712.64000000', '0.12000000'],\n",
       "  ['66711.00000000', '0.10000000'],\n",
       "  ['66709.12000000', '0.03676000'],\n",
       "  ['66706.92000000', '0.20000000'],\n",
       "  ['66706.50000000', '0.02000000'],\n",
       "  ['66706.40000000', '0.10480000'],\n",
       "  ['66706.15000000', '0.06317000'],\n",
       "  ['66705.78000000', '0.04128000'],\n",
       "  ['66705.66000000', '0.10172000'],\n",
       "  ['66705.53000000', '0.03353000'],\n",
       "  ['66704.92000000', '0.20000000'],\n",
       "  ['66703.74000000', '0.06800000'],\n",
       "  ['66703.66000000', '0.04492000'],\n",
       "  ['66703.49000000', '0.06349000'],\n",
       "  ['66703.09000000', '0.07360000'],\n",
       "  ['66702.26000000', '0.02523000'],\n",
       "  ['66702.23000000', '0.15000000'],\n",
       "  ['66701.58000000', '0.00137000'],\n",
       "  ['66701.00000000', '0.00108000'],\n",
       "  ['66700.83000000', '0.06510000'],\n",
       "  ['66700.62000000', '0.32394000'],\n",
       "  ['66700.00000000', '1.00213000'],\n",
       "  ['66698.45000000', '1.54493000'],\n",
       "  ['66698.38000000', '0.50000000'],\n",
       "  ['66698.17000000', '0.06444000'],\n",
       "  ['66697.71000000', '0.06696000'],\n",
       "  ['66696.08000000', '0.10448000'],\n",
       "  ['66695.54000000', '0.15037000'],\n",
       "  ['66695.52000000', '0.00137000'],\n",
       "  ['66695.38000000', '0.00050000']],\n",
       " 'asks': [['66760.01000000', '0.37459000'],\n",
       "  ['66760.02000000', '0.16245000'],\n",
       "  ['66760.55000000', '0.11234000'],\n",
       "  ['66761.07000000', '0.07489000'],\n",
       "  ['66762.84000000', '0.02438000'],\n",
       "  ['66763.27000000', '0.03541000'],\n",
       "  ['66763.28000000', '0.02600000'],\n",
       "  ['66766.39000000', '0.10490000'],\n",
       "  ['66767.72000000', '0.01258000'],\n",
       "  ['66767.99000000', '0.08639000'],\n",
       "  ['66768.17000000', '0.06800000'],\n",
       "  ['66768.18000000', '0.00030000'],\n",
       "  ['66768.34000000', '0.05842000'],\n",
       "  ['66768.36000000', '0.10000000'],\n",
       "  ['66768.66000000', '0.19250000'],\n",
       "  ['66768.95000000', '0.00665000'],\n",
       "  ['66768.96000000', '0.00174000'],\n",
       "  ['66768.97000000', '0.02236000'],\n",
       "  ['66769.00000000', '0.00174000'],\n",
       "  ['66769.23000000', '0.04400000'],\n",
       "  ['66769.60000000', '0.13924000'],\n",
       "  ['66769.61000000', '0.06333000'],\n",
       "  ['66769.69000000', '0.22809000'],\n",
       "  ['66769.84000000', '0.00143000'],\n",
       "  ['66769.85000000', '0.29209000'],\n",
       "  ['66769.88000000', '0.00526000'],\n",
       "  ['66770.00000000', '0.06045000'],\n",
       "  ['66771.05000000', '0.00035000'],\n",
       "  ['66771.07000000', '0.00031000'],\n",
       "  ['66771.66000000', '0.24053000'],\n",
       "  ['66772.01000000', '0.15809000'],\n",
       "  ['66772.02000000', '0.01000000'],\n",
       "  ['66772.53000000', '0.00037000'],\n",
       "  ['66772.55000000', '0.20732000'],\n",
       "  ['66772.89000000', '0.23000000'],\n",
       "  ['66773.01000000', '0.00374000'],\n",
       "  ['66773.59000000', '0.00077000'],\n",
       "  ['66773.90000000', '0.14978000'],\n",
       "  ['66773.95000000', '0.46021000'],\n",
       "  ['66773.97000000', '0.54017000'],\n",
       "  ['66774.00000000', '0.01089000'],\n",
       "  ['66774.33000000', '0.06265000'],\n",
       "  ['66775.00000000', '0.00040000'],\n",
       "  ['66775.20000000', '0.06527000'],\n",
       "  ['66775.41000000', '0.02348000'],\n",
       "  ['66775.56000000', '0.02727000'],\n",
       "  ['66775.68000000', '0.06800000'],\n",
       "  ['66775.85000000', '0.01193000'],\n",
       "  ['66776.37000000', '0.09903000'],\n",
       "  ['66776.90000000', '0.00100000'],\n",
       "  ['66776.96000000', '0.44228000'],\n",
       "  ['66777.00000000', '0.00037000'],\n",
       "  ['66777.01000000', '0.03200000'],\n",
       "  ['66777.05000000', '0.14981000'],\n",
       "  ['66777.55000000', '0.12020000'],\n",
       "  ['66777.63000000', '1.00000000'],\n",
       "  ['66777.64000000', '0.03800000'],\n",
       "  ['66777.70000000', '0.01829000'],\n",
       "  ['66778.40000000', '0.04000000'],\n",
       "  ['66779.06000000', '0.06504000'],\n",
       "  ['66779.86000000', '0.18972000'],\n",
       "  ['66779.87000000', '0.05000000'],\n",
       "  ['66779.91000000', '0.25765000'],\n",
       "  ['66780.00000000', '0.00109000'],\n",
       "  ['66780.04000000', '0.03808000'],\n",
       "  ['66780.17000000', '0.04559000'],\n",
       "  ['66780.24000000', '0.78100000'],\n",
       "  ['66780.35000000', '0.01803000'],\n",
       "  ['66780.61000000', '0.00452000'],\n",
       "  ['66782.10000000', '0.94700000'],\n",
       "  ['66782.32000000', '0.05837000'],\n",
       "  ['66782.56000000', '0.00020000'],\n",
       "  ['66782.86000000', '0.19531000'],\n",
       "  ['66783.05000000', '0.00807000'],\n",
       "  ['66783.22000000', '0.27240000'],\n",
       "  ['66783.65000000', '0.03452000'],\n",
       "  ['66783.80000000', '0.06245000'],\n",
       "  ['66785.20000000', '0.06586000'],\n",
       "  ['66785.39000000', '0.06800000'],\n",
       "  ['66785.86000000', '0.00300000'],\n",
       "  ['66786.66000000', '0.00152000'],\n",
       "  ['66786.68000000', '0.02300000'],\n",
       "  ['66787.92000000', '0.12432000'],\n",
       "  ['66787.97000000', '0.04094000'],\n",
       "  ['66788.12000000', '0.00146000'],\n",
       "  ['66788.26000000', '0.02694000'],\n",
       "  ['66788.39000000', '0.03000000'],\n",
       "  ['66788.55000000', '0.03452000'],\n",
       "  ['66788.80000000', '0.06528000'],\n",
       "  ['66789.03000000', '0.00073000'],\n",
       "  ['66789.11000000', '0.03000000'],\n",
       "  ['66789.46000000', '0.09000000'],\n",
       "  ['66789.47000000', '0.00250000'],\n",
       "  ['66789.54000000', '0.00052000'],\n",
       "  ['66789.55000000', '0.20000000'],\n",
       "  ['66789.63000000', '0.21000000'],\n",
       "  ['66790.00000000', '0.04503000'],\n",
       "  ['66790.80000000', '0.30000000'],\n",
       "  ['66791.26000000', '0.04203000'],\n",
       "  ['66791.89000000', '0.00375000']]}"
      ]
     },
     "execution_count": 37,
     "metadata": {},
     "output_type": "execute_result"
    }
   ],
   "source": [
    "depth\n",
    "# this is a dictionary with 3 keys: lastUpdateID, bids, asks"
   ]
  },
  {
   "cell_type": "code",
   "execution_count": 38,
   "metadata": {
    "collapsed": true,
    "slideshow": {
     "slide_type": "slide"
    }
   },
   "outputs": [
    {
     "data": {
      "text/plain": [
       "[['66760.01000000', '0.37459000'],\n",
       " ['66760.02000000', '0.16245000'],\n",
       " ['66760.55000000', '0.11234000'],\n",
       " ['66761.07000000', '0.07489000'],\n",
       " ['66762.84000000', '0.02438000']]"
      ]
     },
     "execution_count": 38,
     "metadata": {},
     "output_type": "execute_result"
    }
   ],
   "source": [
    "# Look at the first 5 (lowest priced) asks\n",
    "depth[\"asks\"][0:5]"
   ]
  },
  {
   "cell_type": "code",
   "execution_count": 39,
   "metadata": {
    "collapsed": true,
    "slideshow": {
     "slide_type": "slide"
    }
   },
   "outputs": [
    {
     "name": "stdout",
     "output_type": "stream",
     "text": [
      "[       price  quantity  side\n",
      "0   66760.00   2.76952  bids\n",
      "1   66759.98   0.00313  bids\n",
      "2   66759.96   0.00313  bids\n",
      "3   66756.77   0.00066  bids\n",
      "4   66753.76   0.10567  bids\n",
      "..       ...       ...   ...\n",
      "95  66697.71   0.06696  bids\n",
      "96  66696.08   0.10448  bids\n",
      "97  66695.54   0.15037  bids\n",
      "98  66695.52   0.00137  bids\n",
      "99  66695.38   0.00050  bids\n",
      "\n",
      "[100 rows x 3 columns],        price  quantity  side\n",
      "0   66760.01   0.37459  asks\n",
      "1   66760.02   0.16245  asks\n",
      "2   66760.55   0.11234  asks\n",
      "3   66761.07   0.07489  asks\n",
      "4   66762.84   0.02438  asks\n",
      "..       ...       ...   ...\n",
      "95  66789.63   0.21000  asks\n",
      "96  66790.00   0.04503  asks\n",
      "97  66790.80   0.30000  asks\n",
      "98  66791.26   0.04203  asks\n",
      "99  66791.89   0.00375  asks\n",
      "\n",
      "[100 rows x 3 columns]]\n"
     ]
    }
   ],
   "source": [
    "# Structure the data into a list that can be put into a Dataframe\n",
    "df_list = []\n",
    "for side in [\"bids\", \"asks\"]:\n",
    "    df = pd.DataFrame(depth[side], columns=[\"price\", \"quantity\"], dtype = float)\n",
    "    df[\"side\"] = side\n",
    "    df_list.append(df)\n",
    "\n",
    "print(df_list)"
   ]
  },
  {
   "cell_type": "code",
   "execution_count": 40,
   "metadata": {
    "collapsed": true,
    "slideshow": {
     "slide_type": "slide"
    }
   },
   "outputs": [
    {
     "data": {
      "text/html": [
       "<div>\n",
       "<style scoped>\n",
       "    .dataframe tbody tr th:only-of-type {\n",
       "        vertical-align: middle;\n",
       "    }\n",
       "\n",
       "    .dataframe tbody tr th {\n",
       "        vertical-align: top;\n",
       "    }\n",
       "\n",
       "    .dataframe thead th {\n",
       "        text-align: right;\n",
       "    }\n",
       "</style>\n",
       "<table border=\"1\" class=\"dataframe\">\n",
       "  <thead>\n",
       "    <tr style=\"text-align: right;\">\n",
       "      <th></th>\n",
       "      <th>price</th>\n",
       "      <th>quantity</th>\n",
       "      <th>side</th>\n",
       "    </tr>\n",
       "  </thead>\n",
       "  <tbody>\n",
       "    <tr>\n",
       "      <th>195</th>\n",
       "      <td>66789.63</td>\n",
       "      <td>0.21000</td>\n",
       "      <td>asks</td>\n",
       "    </tr>\n",
       "    <tr>\n",
       "      <th>196</th>\n",
       "      <td>66790.00</td>\n",
       "      <td>0.04503</td>\n",
       "      <td>asks</td>\n",
       "    </tr>\n",
       "    <tr>\n",
       "      <th>197</th>\n",
       "      <td>66790.80</td>\n",
       "      <td>0.30000</td>\n",
       "      <td>asks</td>\n",
       "    </tr>\n",
       "    <tr>\n",
       "      <th>198</th>\n",
       "      <td>66791.26</td>\n",
       "      <td>0.04203</td>\n",
       "      <td>asks</td>\n",
       "    </tr>\n",
       "    <tr>\n",
       "      <th>199</th>\n",
       "      <td>66791.89</td>\n",
       "      <td>0.00375</td>\n",
       "      <td>asks</td>\n",
       "    </tr>\n",
       "  </tbody>\n",
       "</table>\n",
       "</div>"
      ],
      "text/plain": [
       "        price  quantity  side\n",
       "195  66789.63   0.21000  asks\n",
       "196  66790.00   0.04503  asks\n",
       "197  66790.80   0.30000  asks\n",
       "198  66791.26   0.04203  asks\n",
       "199  66791.89   0.00375  asks"
      ]
     },
     "execution_count": 40,
     "metadata": {},
     "output_type": "execute_result"
    }
   ],
   "source": [
    "# Concatenate those lists into the Dataframe\n",
    "df = pd.concat(df_list).reset_index(drop=True)\n",
    "\n",
    "df.tail()\n",
    "\n",
    "# Thank you https://towardsdatascience.com/learn-what-a-depth-chart-is-and-how-to-create-it-in-python-323d065e6f86\n",
    "# Thank you https://stackoverflow.com/users/5845824/jlplenio https://stackoverflow.com/questions/19736080/creating-dataframe-from-a-dictionary-where-entries-have-different-lengths"
   ]
  },
  {
   "cell_type": "markdown",
   "metadata": {
    "slideshow": {
     "slide_type": "slide"
    }
   },
   "source": [
    "# ANALYSIS\n",
    "## interesting endpoint 1: Depth\n",
    "Depth chart shows the total quantity of orders at each price requested to buy or sell an asset (stock, cryptocurrency, etc.).\n",
    "\n",
    "It is split in the middle, which is the price of the asset during the last trade. \n",
    "It is organized across the bottom by price. \n",
    "On the left side you have the lowest buy order (price) that buyers hope the asset will become so they can buy it affordably. \n",
    "On the right you have the highest sell order (price) that sellers hope the asset will become so they can sell it for a large profit.\n",
    "\n",
    "https://towardsdatascience.com/learn-what-a-depth-chart-is-and-how-to-create-it-in-python-323d065e6f86\n",
    "https://decryptionary.com/dictionary/depth-chart/\n",
    "https://river.com/learn/how-to-read-a-bitcoin-depth-chart/ "
   ]
  },
  {
   "cell_type": "code",
   "execution_count": 15,
   "metadata": {
    "collapsed": true,
    "slideshow": {
     "slide_type": "slide"
    }
   },
   "outputs": [],
   "source": [
    "### Import Modules for Analysis\n",
    "from datetime import datetime, timedelta\n",
    "import numpy as np\n",
    "import matplotlib.pyplot as plt\n",
    "import matplotlib.dates as mdates\n",
    "import seaborn as sns\n",
    "sns.set(rc={'figure.figsize':(20,8.27)})\n",
    "sns.set_style(\"whitegrid\", {'axes.grid' : True})\n",
    "\n",
    "%matplotlib inline"
   ]
  },
  {
   "cell_type": "code",
   "execution_count": 17,
   "metadata": {
    "collapsed": true,
    "slideshow": {
     "slide_type": "slide"
    }
   },
   "outputs": [
    {
     "name": "stdout",
     "output_type": "stream",
     "text": [
      "Returning https://api.binance.com/api/v3/time\n",
      "Status Code 200\n",
      "2021-11-09 19:16:19.515000\n",
      "Returning https://api.binance.com/api/v3/avgPrice\n",
      "Status Code 200\n",
      "66995.29544888\n",
      "Returning https://api.binance.com/api/v3/depth\n",
      "Status Code 200\n"
     ]
    },
    {
     "data": {
      "text/html": [
       "<div>\n",
       "<style scoped>\n",
       "    .dataframe tbody tr th:only-of-type {\n",
       "        vertical-align: middle;\n",
       "    }\n",
       "\n",
       "    .dataframe tbody tr th {\n",
       "        vertical-align: top;\n",
       "    }\n",
       "\n",
       "    .dataframe thead th {\n",
       "        text-align: right;\n",
       "    }\n",
       "</style>\n",
       "<table border=\"1\" class=\"dataframe\">\n",
       "  <thead>\n",
       "    <tr style=\"text-align: right;\">\n",
       "      <th></th>\n",
       "      <th>price</th>\n",
       "      <th>quantity</th>\n",
       "      <th>side</th>\n",
       "    </tr>\n",
       "  </thead>\n",
       "  <tbody>\n",
       "    <tr>\n",
       "      <th>0</th>\n",
       "      <td>67223.38</td>\n",
       "      <td>1.20000</td>\n",
       "      <td>bids</td>\n",
       "    </tr>\n",
       "    <tr>\n",
       "      <th>1</th>\n",
       "      <td>67221.83</td>\n",
       "      <td>0.37500</td>\n",
       "      <td>bids</td>\n",
       "    </tr>\n",
       "    <tr>\n",
       "      <th>2</th>\n",
       "      <td>67221.69</td>\n",
       "      <td>0.50000</td>\n",
       "      <td>bids</td>\n",
       "    </tr>\n",
       "    <tr>\n",
       "      <th>3</th>\n",
       "      <td>67221.49</td>\n",
       "      <td>0.30000</td>\n",
       "      <td>bids</td>\n",
       "    </tr>\n",
       "    <tr>\n",
       "      <th>4</th>\n",
       "      <td>67219.14</td>\n",
       "      <td>0.25000</td>\n",
       "      <td>bids</td>\n",
       "    </tr>\n",
       "    <tr>\n",
       "      <th>...</th>\n",
       "      <td>...</td>\n",
       "      <td>...</td>\n",
       "      <td>...</td>\n",
       "    </tr>\n",
       "    <tr>\n",
       "      <th>195</th>\n",
       "      <td>67269.56</td>\n",
       "      <td>0.00016</td>\n",
       "      <td>asks</td>\n",
       "    </tr>\n",
       "    <tr>\n",
       "      <th>196</th>\n",
       "      <td>67269.79</td>\n",
       "      <td>0.02469</td>\n",
       "      <td>asks</td>\n",
       "    </tr>\n",
       "    <tr>\n",
       "      <th>197</th>\n",
       "      <td>67270.06</td>\n",
       "      <td>0.01216</td>\n",
       "      <td>asks</td>\n",
       "    </tr>\n",
       "    <tr>\n",
       "      <th>198</th>\n",
       "      <td>67270.55</td>\n",
       "      <td>0.00086</td>\n",
       "      <td>asks</td>\n",
       "    </tr>\n",
       "    <tr>\n",
       "      <th>199</th>\n",
       "      <td>67270.58</td>\n",
       "      <td>0.01846</td>\n",
       "      <td>asks</td>\n",
       "    </tr>\n",
       "  </tbody>\n",
       "</table>\n",
       "<p>200 rows × 3 columns</p>\n",
       "</div>"
      ],
      "text/plain": [
       "        price  quantity  side\n",
       "0    67223.38   1.20000  bids\n",
       "1    67221.83   0.37500  bids\n",
       "2    67221.69   0.50000  bids\n",
       "3    67221.49   0.30000  bids\n",
       "4    67219.14   0.25000  bids\n",
       "..        ...       ...   ...\n",
       "195  67269.56   0.00016  asks\n",
       "196  67269.79   0.02469  asks\n",
       "197  67270.06   0.01216  asks\n",
       "198  67270.55   0.00086  asks\n",
       "199  67270.58   0.01846  asks\n",
       "\n",
       "[200 rows x 3 columns]"
      ]
     },
     "execution_count": 17,
     "metadata": {},
     "output_type": "execute_result"
    }
   ],
   "source": [
    "# Get data from needed APIs\n",
    "symbol_pair = {'symbol':'BTCUSDT'}\n",
    "curprice_endpt = \"/api/v3/avgPrice\"\n",
    "orders_endpt   = \"/api/v3/depth\"\n",
    "time_endpt     = \"/api/v3/time\"\n",
    "\n",
    "# Identify As of date/time\n",
    "timestp = binance_response(time_endpt)\n",
    "timestp = datetime.fromtimestamp(timestp['serverTime']/1000)\n",
    "print(timestp) # looks like EST\n",
    "\n",
    "# Identify the current average price over the last 5 minutes\n",
    "cur_price = binance_response(curprice_endpt, **symbol_pair)\n",
    "cur_price = float(cur_price['price'])\n",
    "print(cur_price)\n",
    "\n",
    "# Get the current Orders data\n",
    "depth = binance_response(orders_endpt, **symbol_pair)\n",
    "\n",
    "# Convert Orders data to dataframe\n",
    "df_list = []\n",
    "for side in [\"bids\", \"asks\"]:\n",
    "    df = pd.DataFrame(depth[side], columns=[\"price\", \"quantity\"], dtype = float)\n",
    "    df[\"side\"] = side\n",
    "    df_list.append(df)\n",
    "depth = pd.concat(df_list).reset_index(drop=True)\n",
    "depth"
   ]
  },
  {
   "cell_type": "code",
   "execution_count": 18,
   "metadata": {
    "collapsed": true,
    "slideshow": {
     "slide_type": "slide"
    }
   },
   "outputs": [
    {
     "name": "stdout",
     "output_type": "stream",
     "text": [
      "BTCUSDT Order Book - Depth Chart As Of 2021-11-09 19:16:19.515000\n"
     ]
    }
   ],
   "source": [
    "# Chart Title:\n",
    "Title = symbol_pair['symbol']+\" Order Book - Depth Chart As Of \"+str(timestp)\n",
    "print(Title)\n"
   ]
  },
  {
   "cell_type": "code",
   "execution_count": 19,
   "metadata": {
    "collapsed": true,
    "slideshow": {
     "slide_type": "slide"
    }
   },
   "outputs": [
    {
     "name": "stdout",
     "output_type": "stream",
     "text": [
      "67223.38\n",
      "67151.78\n",
      "67270.58\n",
      "6\n"
     ]
    }
   ],
   "source": [
    "# For placement of Annotations:\n",
    "\n",
    "# Identify maximum bid\n",
    "max_bid = float(depth[depth['side'] == 'bids']['price'].max())\n",
    "print(max_bid)\n",
    "\n",
    "# Identify minimum overall price\n",
    "min_price = float(depth['price'].min())\n",
    "print(min_price)\n",
    "\n",
    "# Identify maximum overall price\n",
    "max_price = float(depth['price'].max())\n",
    "print(max_price)\n",
    "\n",
    "# Identify average quantity\n",
    "ave_qty = int(depth['quantity'].sum()/(2*2)) # placement 1/4 of the way up\n",
    "print(ave_qty)"
   ]
  },
  {
   "cell_type": "code",
   "execution_count": 20,
   "metadata": {
    "collapsed": true,
    "slideshow": {
     "slide_type": "slide"
    }
   },
   "outputs": [],
   "source": [
    "# Plot Formatting for current price arrow\n",
    "offset = 0.6\n",
    "leng = 0.2\n",
    "# Set up current price arrow\n",
    "if cur_price > max_price:\n",
    "    cur_x = max_price\n",
    "    cur_col = 'red'\n",
    "    cur_y = (ave_qty*(1+offset))\n",
    "    cur_yarr = cur_y*(1+leng)\n",
    "elif cur_price < min_price:\n",
    "    cur_x = min_price\n",
    "    cur_col = 'green'\n",
    "    cur_y = (ave_qty*(1-offset))\n",
    "    cur_yarr = cur_y-(1+leng)\n",
    "else: \n",
    "    cur_x = cur_price\n",
    "    cur_col = 'blue'\n",
    "    if cur_price > max_bid:\n",
    "        cur_y = (ave_qty*(1+offset))\n",
    "        cur_yarr = cur_y*(1+leng)\n",
    "    else:\n",
    "        cur_y = (ave_qty*(1-offset))\n",
    "        cur_yarr = cur_y-(1+leng)"
   ]
  },
  {
   "cell_type": "markdown",
   "metadata": {
    "slideshow": {
     "slide_type": "slide"
    }
   },
   "source": [
    "An empirical cumulative distribution function (ECDF) plot, like a histogram, shows a count of observations.  However, they are not grouped into bins, so you see each unique value in the dataset. https://seaborn.pydata.org/generated/seaborn.ecdfplot.html\n",
    "\n",
    "If the current average price over the last 5 minutes is significantly *higher* than the mid-market price, this may identify a 'buy' opportunity because you could get the shares for less than the median current price.\n",
    "\n",
    "These prices move very quickly, though!  So, it may be best to have a bot set up to post the 'ask' if it meets a particular rule."
   ]
  },
  {
   "cell_type": "code",
   "execution_count": 21,
   "metadata": {
    "collapsed": true,
    "slideshow": {
     "slide_type": "slide"
    }
   },
   "outputs": [
    {
     "data": {
      "image/png": "[encoded data removed]",
      "text/plain": [
       "<Figure size 1440x595.44 with 1 Axes>"
      ]
     },
     "metadata": {},
     "output_type": "display_data"
    }
   ],
   "source": [
    "sns.set(rc={'figure.figsize':(20,8.27)})\n",
    "sns.set_style(\"whitegrid\")\n",
    "fig, ax = plt.subplots()\n",
    "ax.set_title(Title)\n",
    "sns.ecdfplot(x=\"price\", weights=\"quantity\", stat=\"count\", \n",
    "             complementary=True, data=depth.query(\"side == 'bids'\"), \n",
    "             color=\"green\", ax=ax)\n",
    "sns.ecdfplot(x=\"price\", weights=\"quantity\", stat=\"count\", \n",
    "             data=depth.query(\"side == 'asks'\"), color='red', \n",
    "             ax=ax)\n",
    "ax.set_xlabel(\"Price\")\n",
    "ax.set_ylabel(\"Quantity\")\n",
    "\n",
    "# Label Mid-Market Price and Current 5-minute Average price\n",
    "ax.annotate(xy=(max_bid, ave_qty),\n",
    "            text=(str(round(max_bid,ave_qty))),\n",
    "            arrowprops=dict(facecolor='black'),\n",
    "             horizontalalignment='center')\n",
    "ax.annotate(text=(str(round(cur_price,2))),\n",
    "            xy=(cur_x, cur_yarr), xytext=(cur_x,cur_y),\n",
    "            arrowprops=dict(facecolor=cur_col),\n",
    "             horizontalalignment='center');\n",
    "# https://towardsdatascience.com/learn-what-a-depth-chart-is-and-how-to-create-it-in-python-323d065e6f86"
   ]
  },
  {
   "cell_type": "markdown",
   "metadata": {
    "slideshow": {
     "slide_type": "slide"
    }
   },
   "source": [
    "### interesting endpoint 2: Klines for Moving Average\n",
    "\n",
    "One key buy/sell strategy is:\n",
    "* Buy when a short term moving average is under the long term moving average\n",
    "* Sell when the short term moving average is above the long term moving average\n",
    "\n",
    "For traditional stocks, a key metric is 200 versus 50 - day moving averages.\n",
    "Crypto moves fast, so this chart will show the 20 versus 5 - day moving averages.\n",
    "\n",
    "https://towardsdatascience.com/making-a-trade-call-using-simple-moving-average-sma-crossover-strategy-python-implementation-29963326da7a   \n",
    "-- Pratik Nabriya"
   ]
  },
  {
   "cell_type": "code",
   "execution_count": 42,
   "metadata": {
    "collapsed": true,
    "slideshow": {
     "slide_type": "slide"
    }
   },
   "outputs": [
    {
     "name": "stdout",
     "output_type": "stream",
     "text": [
      "Returning https://api.binance.com/api/v3/klines\n",
      "Status Code 200\n"
     ]
    },
    {
     "data": {
      "text/html": [
       "<div>\n",
       "<style scoped>\n",
       "    .dataframe tbody tr th:only-of-type {\n",
       "        vertical-align: middle;\n",
       "    }\n",
       "\n",
       "    .dataframe tbody tr th {\n",
       "        vertical-align: top;\n",
       "    }\n",
       "\n",
       "    .dataframe thead th {\n",
       "        text-align: right;\n",
       "    }\n",
       "</style>\n",
       "<table border=\"1\" class=\"dataframe\">\n",
       "  <thead>\n",
       "    <tr style=\"text-align: right;\">\n",
       "      <th></th>\n",
       "      <th>0</th>\n",
       "      <th>1</th>\n",
       "      <th>2</th>\n",
       "      <th>3</th>\n",
       "      <th>4</th>\n",
       "      <th>5</th>\n",
       "      <th>6</th>\n",
       "      <th>7</th>\n",
       "      <th>8</th>\n",
       "      <th>9</th>\n",
       "      <th>10</th>\n",
       "      <th>11</th>\n",
       "    </tr>\n",
       "  </thead>\n",
       "  <tbody>\n",
       "    <tr>\n",
       "      <th>0</th>\n",
       "      <td>1593388800000</td>\n",
       "      <td>9116.16000000</td>\n",
       "      <td>9238.00000000</td>\n",
       "      <td>9024.67000000</td>\n",
       "      <td>9192.56000000</td>\n",
       "      <td>42120.29326100</td>\n",
       "      <td>1593475199999</td>\n",
       "      <td>384206326.47068040</td>\n",
       "      <td>434299</td>\n",
       "      <td>20449.09779600</td>\n",
       "      <td>186542867.41056208</td>\n",
       "      <td>0</td>\n",
       "    </tr>\n",
       "    <tr>\n",
       "      <th>1</th>\n",
       "      <td>1593475200000</td>\n",
       "      <td>9192.93000000</td>\n",
       "      <td>9205.00000000</td>\n",
       "      <td>9064.89000000</td>\n",
       "      <td>9138.55000000</td>\n",
       "      <td>31463.16280100</td>\n",
       "      <td>1593561599999</td>\n",
       "      <td>287781334.51701579</td>\n",
       "      <td>328083</td>\n",
       "      <td>15267.74746700</td>\n",
       "      <td>139674651.10276634</td>\n",
       "      <td>0</td>\n",
       "    </tr>\n",
       "  </tbody>\n",
       "</table>\n",
       "</div>"
      ],
      "text/plain": [
       "               0              1              2              3              4  \\\n",
       "0  1593388800000  9116.16000000  9238.00000000  9024.67000000  9192.56000000   \n",
       "1  1593475200000  9192.93000000  9205.00000000  9064.89000000  9138.55000000   \n",
       "\n",
       "                5              6                   7       8               9  \\\n",
       "0  42120.29326100  1593475199999  384206326.47068040  434299  20449.09779600   \n",
       "1  31463.16280100  1593561599999  287781334.51701579  328083  15267.74746700   \n",
       "\n",
       "                   10 11  \n",
       "0  186542867.41056208  0  \n",
       "1  139674651.10276634  0  "
      ]
     },
     "execution_count": 42,
     "metadata": {},
     "output_type": "execute_result"
    }
   ],
   "source": [
    "# get K-Line data for every day\n",
    "BTCKline = binance_response(\"/api/v3/klines\", **{'symbol': 'BTCUSDT', 'interval':'1d'})\n",
    "df = pd.DataFrame(BTCKline)\n",
    "df.head(2)"
   ]
  },
  {
   "cell_type": "code",
   "execution_count": 43,
   "metadata": {
    "collapsed": true,
    "slideshow": {
     "slide_type": "slide"
    }
   },
   "outputs": [
    {
     "data": {
      "text/plain": [
       "datetime.datetime(1969, 12, 31, 19, 0)"
      ]
     },
     "execution_count": 43,
     "metadata": {},
     "output_type": "execute_result"
    }
   ],
   "source": [
    "# Binance uses a POSIX timestamp\n",
    "datetime.fromtimestamp(0)"
   ]
  },
  {
   "cell_type": "code",
   "execution_count": 44,
   "metadata": {
    "collapsed": true,
    "slideshow": {
     "slide_type": "slide"
    }
   },
   "outputs": [
    {
     "data": {
      "text/html": [
       "<div>\n",
       "<style scoped>\n",
       "    .dataframe tbody tr th:only-of-type {\n",
       "        vertical-align: middle;\n",
       "    }\n",
       "\n",
       "    .dataframe tbody tr th {\n",
       "        vertical-align: top;\n",
       "    }\n",
       "\n",
       "    .dataframe thead th {\n",
       "        text-align: right;\n",
       "    }\n",
       "</style>\n",
       "<table border=\"1\" class=\"dataframe\">\n",
       "  <thead>\n",
       "    <tr style=\"text-align: right;\">\n",
       "      <th></th>\n",
       "      <th>0</th>\n",
       "      <th>1</th>\n",
       "      <th>2</th>\n",
       "      <th>3</th>\n",
       "      <th>4</th>\n",
       "      <th>5</th>\n",
       "      <th>6</th>\n",
       "      <th>7</th>\n",
       "      <th>8</th>\n",
       "      <th>9</th>\n",
       "      <th>10</th>\n",
       "      <th>11</th>\n",
       "    </tr>\n",
       "  </thead>\n",
       "  <tbody>\n",
       "    <tr>\n",
       "      <th>0</th>\n",
       "      <td>1593388800000</td>\n",
       "      <td>9116.16000000</td>\n",
       "      <td>9238.00000000</td>\n",
       "      <td>9024.67000000</td>\n",
       "      <td>9192.56</td>\n",
       "      <td>42120.29326100</td>\n",
       "      <td>2020-06-29 19:59:59.999</td>\n",
       "      <td>384206326.47068040</td>\n",
       "      <td>434299</td>\n",
       "      <td>20449.09779600</td>\n",
       "      <td>186542867.41056208</td>\n",
       "      <td>0</td>\n",
       "    </tr>\n",
       "    <tr>\n",
       "      <th>1</th>\n",
       "      <td>1593475200000</td>\n",
       "      <td>9192.93000000</td>\n",
       "      <td>9205.00000000</td>\n",
       "      <td>9064.89000000</td>\n",
       "      <td>9138.55</td>\n",
       "      <td>31463.16280100</td>\n",
       "      <td>2020-06-30 19:59:59.999</td>\n",
       "      <td>287781334.51701579</td>\n",
       "      <td>328083</td>\n",
       "      <td>15267.74746700</td>\n",
       "      <td>139674651.10276634</td>\n",
       "      <td>0</td>\n",
       "    </tr>\n",
       "  </tbody>\n",
       "</table>\n",
       "</div>"
      ],
      "text/plain": [
       "               0              1              2              3        4  \\\n",
       "0  1593388800000  9116.16000000  9238.00000000  9024.67000000  9192.56   \n",
       "1  1593475200000  9192.93000000  9205.00000000  9064.89000000  9138.55   \n",
       "\n",
       "                5                       6                   7       8  \\\n",
       "0  42120.29326100 2020-06-29 19:59:59.999  384206326.47068040  434299   \n",
       "1  31463.16280100 2020-06-30 19:59:59.999  287781334.51701579  328083   \n",
       "\n",
       "                9                  10 11  \n",
       "0  20449.09779600  186542867.41056208  0  \n",
       "1  15267.74746700  139674651.10276634  0  "
      ]
     },
     "execution_count": 44,
     "metadata": {},
     "output_type": "execute_result"
    }
   ],
   "source": [
    "# Update date based on the close timestamp\n",
    "df[6] = df[6].apply(lambda x: datetime.fromtimestamp(x/1000))\n",
    "df[4] = df[4].astype(float)\n",
    "df.head(2)"
   ]
  },
  {
   "cell_type": "code",
   "execution_count": 45,
   "metadata": {
    "collapsed": true,
    "slideshow": {
     "slide_type": "slide"
    }
   },
   "outputs": [
    {
     "data": {
      "text/html": [
       "<div>\n",
       "<style scoped>\n",
       "    .dataframe tbody tr th:only-of-type {\n",
       "        vertical-align: middle;\n",
       "    }\n",
       "\n",
       "    .dataframe tbody tr th {\n",
       "        vertical-align: top;\n",
       "    }\n",
       "\n",
       "    .dataframe thead th {\n",
       "        text-align: right;\n",
       "    }\n",
       "</style>\n",
       "<table border=\"1\" class=\"dataframe\">\n",
       "  <thead>\n",
       "    <tr style=\"text-align: right;\">\n",
       "      <th></th>\n",
       "      <th>ClosePrice</th>\n",
       "    </tr>\n",
       "    <tr>\n",
       "      <th>CloseDate</th>\n",
       "      <th></th>\n",
       "    </tr>\n",
       "  </thead>\n",
       "  <tbody>\n",
       "    <tr>\n",
       "      <th>2020-06-29 19:59:59.999</th>\n",
       "      <td>9192.56</td>\n",
       "    </tr>\n",
       "    <tr>\n",
       "      <th>2020-06-30 19:59:59.999</th>\n",
       "      <td>9138.55</td>\n",
       "    </tr>\n",
       "    <tr>\n",
       "      <th>2020-07-01 19:59:59.999</th>\n",
       "      <td>9232.00</td>\n",
       "    </tr>\n",
       "    <tr>\n",
       "      <th>2020-07-02 19:59:59.999</th>\n",
       "      <td>9086.54</td>\n",
       "    </tr>\n",
       "    <tr>\n",
       "      <th>2020-07-03 19:59:59.999</th>\n",
       "      <td>9058.26</td>\n",
       "    </tr>\n",
       "    <tr>\n",
       "      <th>...</th>\n",
       "      <td>...</td>\n",
       "    </tr>\n",
       "    <tr>\n",
       "      <th>2021-11-06 19:59:59.999</th>\n",
       "      <td>61470.61</td>\n",
       "    </tr>\n",
       "    <tr>\n",
       "      <th>2021-11-07 18:59:59.999</th>\n",
       "      <td>63273.59</td>\n",
       "    </tr>\n",
       "    <tr>\n",
       "      <th>2021-11-08 18:59:59.999</th>\n",
       "      <td>67525.83</td>\n",
       "    </tr>\n",
       "    <tr>\n",
       "      <th>2021-11-09 18:59:59.999</th>\n",
       "      <td>66947.66</td>\n",
       "    </tr>\n",
       "    <tr>\n",
       "      <th>2021-11-10 18:59:59.999</th>\n",
       "      <td>66943.92</td>\n",
       "    </tr>\n",
       "  </tbody>\n",
       "</table>\n",
       "<p>500 rows × 1 columns</p>\n",
       "</div>"
      ],
      "text/plain": [
       "                         ClosePrice\n",
       "CloseDate                          \n",
       "2020-06-29 19:59:59.999     9192.56\n",
       "2020-06-30 19:59:59.999     9138.55\n",
       "2020-07-01 19:59:59.999     9232.00\n",
       "2020-07-02 19:59:59.999     9086.54\n",
       "2020-07-03 19:59:59.999     9058.26\n",
       "...                             ...\n",
       "2021-11-06 19:59:59.999    61470.61\n",
       "2021-11-07 18:59:59.999    63273.59\n",
       "2021-11-08 18:59:59.999    67525.83\n",
       "2021-11-09 18:59:59.999    66947.66\n",
       "2021-11-10 18:59:59.999    66943.92\n",
       "\n",
       "[500 rows x 1 columns]"
      ]
     },
     "execution_count": 45,
     "metadata": {},
     "output_type": "execute_result"
    }
   ],
   "source": [
    "# Just need close time and close price for this analysis\n",
    "# drop unneeded columns\n",
    "df = df[[4,6]].copy()\n",
    "\n",
    "# rename the columns and reset the index to dates for plotting ease\n",
    "df.columns = ['ClosePrice','CloseDate']\n",
    "df.set_index('CloseDate', inplace=True) \n",
    "df"
   ]
  },
  {
   "cell_type": "code",
   "execution_count": 46,
   "metadata": {
    "collapsed": true,
    "slideshow": {
     "slide_type": "slide"
    }
   },
   "outputs": [
    {
     "data": {
      "text/plain": [
       "Text(0, 0.5, 'Price in US Tether Coin')"
      ]
     },
     "execution_count": 46,
     "metadata": {},
     "output_type": "execute_result"
    },
    {
     "data": {
      "image/png": "[encoded data removed]",
      "text/plain": [
       "<Figure size 1440x576 with 1 Axes>"
      ]
     },
     "metadata": {},
     "output_type": "display_data"
    }
   ],
   "source": [
    "df['ClosePrice'].plot(figsize = (20, 8), color = 'k')\n",
    "plt.grid(True)\n",
    "plt.ylabel(\"Price in US Tether Coin\")"
   ]
  },
  {
   "cell_type": "code",
   "execution_count": 47,
   "metadata": {
    "collapsed": true,
    "slideshow": {
     "slide_type": "slide"
    }
   },
   "outputs": [],
   "source": [
    "# create 20 days simple moving average column\n",
    "df['20_SMA'] = df['ClosePrice'].rolling(window = 20, min_periods = 20).mean()\n",
    "# create 5 days simple moving average column\n",
    "df['5_SMA'] = df['ClosePrice'].rolling(window = 5, min_periods = 5).mean()"
   ]
  },
  {
   "cell_type": "code",
   "execution_count": 48,
   "metadata": {
    "collapsed": true,
    "slideshow": {
     "slide_type": "slide"
    }
   },
   "outputs": [
    {
     "data": {
      "text/html": [
       "<div>\n",
       "<style scoped>\n",
       "    .dataframe tbody tr th:only-of-type {\n",
       "        vertical-align: middle;\n",
       "    }\n",
       "\n",
       "    .dataframe tbody tr th {\n",
       "        vertical-align: top;\n",
       "    }\n",
       "\n",
       "    .dataframe thead th {\n",
       "        text-align: right;\n",
       "    }\n",
       "</style>\n",
       "<table border=\"1\" class=\"dataframe\">\n",
       "  <thead>\n",
       "    <tr style=\"text-align: right;\">\n",
       "      <th></th>\n",
       "      <th>ClosePrice</th>\n",
       "      <th>20_SMA</th>\n",
       "      <th>5_SMA</th>\n",
       "    </tr>\n",
       "    <tr>\n",
       "      <th>CloseDate</th>\n",
       "      <th></th>\n",
       "      <th></th>\n",
       "      <th></th>\n",
       "    </tr>\n",
       "  </thead>\n",
       "  <tbody>\n",
       "    <tr>\n",
       "      <th>2021-11-06 19:59:59.999</th>\n",
       "      <td>61470.61</td>\n",
       "      <td>61797.6060</td>\n",
       "      <td>61983.842</td>\n",
       "    </tr>\n",
       "    <tr>\n",
       "      <th>2021-11-07 18:59:59.999</th>\n",
       "      <td>63273.59</td>\n",
       "      <td>61860.7935</td>\n",
       "      <td>61994.562</td>\n",
       "    </tr>\n",
       "    <tr>\n",
       "      <th>2021-11-08 18:59:59.999</th>\n",
       "      <td>67525.83</td>\n",
       "      <td>62023.0555</td>\n",
       "      <td>62920.432</td>\n",
       "    </tr>\n",
       "    <tr>\n",
       "      <th>2021-11-09 18:59:59.999</th>\n",
       "      <td>66947.66</td>\n",
       "      <td>62070.3680</td>\n",
       "      <td>64030.962</td>\n",
       "    </tr>\n",
       "    <tr>\n",
       "      <th>2021-11-10 18:59:59.999</th>\n",
       "      <td>66943.92</td>\n",
       "      <td>62307.9065</td>\n",
       "      <td>65232.322</td>\n",
       "    </tr>\n",
       "  </tbody>\n",
       "</table>\n",
       "</div>"
      ],
      "text/plain": [
       "                         ClosePrice      20_SMA      5_SMA\n",
       "CloseDate                                                 \n",
       "2021-11-06 19:59:59.999    61470.61  61797.6060  61983.842\n",
       "2021-11-07 18:59:59.999    63273.59  61860.7935  61994.562\n",
       "2021-11-08 18:59:59.999    67525.83  62023.0555  62920.432\n",
       "2021-11-09 18:59:59.999    66947.66  62070.3680  64030.962\n",
       "2021-11-10 18:59:59.999    66943.92  62307.9065  65232.322"
      ]
     },
     "execution_count": 48,
     "metadata": {},
     "output_type": "execute_result"
    }
   ],
   "source": [
    "# display first few rows\n",
    "df.tail()"
   ]
  },
  {
   "cell_type": "code",
   "execution_count": 49,
   "metadata": {
    "collapsed": true,
    "slideshow": {
     "slide_type": "slide"
    }
   },
   "outputs": [],
   "source": [
    "# A 'buy' signal  = 1\n",
    "df['Signal'] = 0.0\n",
    "df['Signal'] = np.where(df['20_SMA'] < df['5_SMA'], 1.0, 0.0)\n",
    "\n",
    "# Should you buy or sell?\n",
    "df['Position'] = df['Signal'].diff() #lag difference between rows"
   ]
  },
  {
   "cell_type": "code",
   "execution_count": 53,
   "metadata": {
    "collapsed": true,
    "slideshow": {
     "slide_type": "slide"
    }
   },
   "outputs": [
    {
     "data": {
      "text/html": [
       "<div>\n",
       "<style scoped>\n",
       "    .dataframe tbody tr th:only-of-type {\n",
       "        vertical-align: middle;\n",
       "    }\n",
       "\n",
       "    .dataframe tbody tr th {\n",
       "        vertical-align: top;\n",
       "    }\n",
       "\n",
       "    .dataframe thead th {\n",
       "        text-align: right;\n",
       "    }\n",
       "</style>\n",
       "<table border=\"1\" class=\"dataframe\">\n",
       "  <thead>\n",
       "    <tr style=\"text-align: right;\">\n",
       "      <th></th>\n",
       "      <th>ClosePrice</th>\n",
       "      <th>20_SMA</th>\n",
       "      <th>5_SMA</th>\n",
       "      <th>Signal</th>\n",
       "      <th>Position</th>\n",
       "    </tr>\n",
       "    <tr>\n",
       "      <th>CloseDate</th>\n",
       "      <th></th>\n",
       "      <th></th>\n",
       "      <th></th>\n",
       "      <th></th>\n",
       "      <th></th>\n",
       "    </tr>\n",
       "  </thead>\n",
       "  <tbody>\n",
       "    <tr>\n",
       "      <th>2021-04-25 19:59:59.999</th>\n",
       "      <td>49066.77</td>\n",
       "      <td>57237.9340</td>\n",
       "      <td>51143.668</td>\n",
       "      <td>0.0</td>\n",
       "      <td>0.0</td>\n",
       "    </tr>\n",
       "    <tr>\n",
       "      <th>2021-04-26 19:59:59.999</th>\n",
       "      <td>54001.39</td>\n",
       "      <td>57038.4460</td>\n",
       "      <td>51186.420</td>\n",
       "      <td>0.0</td>\n",
       "      <td>0.0</td>\n",
       "    </tr>\n",
       "    <tr>\n",
       "      <th>2021-04-27 19:59:59.999</th>\n",
       "      <td>55011.97</td>\n",
       "      <td>56991.3720</td>\n",
       "      <td>51850.622</td>\n",
       "      <td>0.0</td>\n",
       "      <td>0.0</td>\n",
       "    </tr>\n",
       "    <tr>\n",
       "      <th>2021-04-28 19:59:59.999</th>\n",
       "      <td>54846.22</td>\n",
       "      <td>56829.8070</td>\n",
       "      <td>52594.838</td>\n",
       "      <td>0.0</td>\n",
       "      <td>0.0</td>\n",
       "    </tr>\n",
       "    <tr>\n",
       "      <th>2021-04-29 19:59:59.999</th>\n",
       "      <td>53555.00</td>\n",
       "      <td>56600.4300</td>\n",
       "      <td>53296.270</td>\n",
       "      <td>0.0</td>\n",
       "      <td>0.0</td>\n",
       "    </tr>\n",
       "    <tr>\n",
       "      <th>2021-04-30 19:59:59.999</th>\n",
       "      <td>57694.27</td>\n",
       "      <td>56496.6870</td>\n",
       "      <td>55021.770</td>\n",
       "      <td>0.0</td>\n",
       "      <td>0.0</td>\n",
       "    </tr>\n",
       "    <tr>\n",
       "      <th>2021-05-01 19:59:59.999</th>\n",
       "      <td>57800.37</td>\n",
       "      <td>56386.5840</td>\n",
       "      <td>55781.566</td>\n",
       "      <td>0.0</td>\n",
       "      <td>0.0</td>\n",
       "    </tr>\n",
       "    <tr>\n",
       "      <th>2021-05-02 19:59:59.999</th>\n",
       "      <td>56578.21</td>\n",
       "      <td>56222.4945</td>\n",
       "      <td>56094.814</td>\n",
       "      <td>0.0</td>\n",
       "      <td>0.0</td>\n",
       "    </tr>\n",
       "    <tr>\n",
       "      <th>2021-05-03 19:59:59.999</th>\n",
       "      <td>57169.39</td>\n",
       "      <td>55902.2140</td>\n",
       "      <td>56559.448</td>\n",
       "      <td>1.0</td>\n",
       "      <td>1.0</td>\n",
       "    </tr>\n",
       "    <tr>\n",
       "      <th>2021-05-04 19:59:59.999</th>\n",
       "      <td>53200.01</td>\n",
       "      <td>55414.2380</td>\n",
       "      <td>56488.450</td>\n",
       "      <td>1.0</td>\n",
       "      <td>0.0</td>\n",
       "    </tr>\n",
       "    <tr>\n",
       "      <th>2021-05-05 19:59:59.999</th>\n",
       "      <td>57436.11</td>\n",
       "      <td>55128.0445</td>\n",
       "      <td>56436.818</td>\n",
       "      <td>1.0</td>\n",
       "      <td>0.0</td>\n",
       "    </tr>\n",
       "    <tr>\n",
       "      <th>2021-05-06 19:59:59.999</th>\n",
       "      <td>56393.68</td>\n",
       "      <td>54880.9885</td>\n",
       "      <td>56155.480</td>\n",
       "      <td>1.0</td>\n",
       "      <td>0.0</td>\n",
       "    </tr>\n",
       "    <tr>\n",
       "      <th>2021-05-07 19:59:59.999</th>\n",
       "      <td>57314.75</td>\n",
       "      <td>54746.3930</td>\n",
       "      <td>56302.788</td>\n",
       "      <td>1.0</td>\n",
       "      <td>0.0</td>\n",
       "    </tr>\n",
       "    <tr>\n",
       "      <th>2021-05-08 19:59:59.999</th>\n",
       "      <td>58862.05</td>\n",
       "      <td>54881.9950</td>\n",
       "      <td>56641.320</td>\n",
       "      <td>1.0</td>\n",
       "      <td>0.0</td>\n",
       "    </tr>\n",
       "    <tr>\n",
       "      <th>2021-05-09 19:59:59.999</th>\n",
       "      <td>58240.84</td>\n",
       "      <td>55012.3800</td>\n",
       "      <td>57649.486</td>\n",
       "      <td>1.0</td>\n",
       "      <td>0.0</td>\n",
       "    </tr>\n",
       "    <tr>\n",
       "      <th>2021-05-10 19:59:59.999</th>\n",
       "      <td>55816.14</td>\n",
       "      <td>54981.9370</td>\n",
       "      <td>57325.492</td>\n",
       "      <td>1.0</td>\n",
       "      <td>0.0</td>\n",
       "    </tr>\n",
       "    <tr>\n",
       "      <th>2021-05-11 19:59:59.999</th>\n",
       "      <td>56670.02</td>\n",
       "      <td>55126.0565</td>\n",
       "      <td>57380.760</td>\n",
       "      <td>1.0</td>\n",
       "      <td>0.0</td>\n",
       "    </tr>\n",
       "    <tr>\n",
       "      <th>2021-05-12 19:59:59.999</th>\n",
       "      <td>49631.32</td>\n",
       "      <td>55023.0745</td>\n",
       "      <td>55844.074</td>\n",
       "      <td>1.0</td>\n",
       "      <td>0.0</td>\n",
       "    </tr>\n",
       "    <tr>\n",
       "      <th>2021-05-13 19:59:59.999</th>\n",
       "      <td>49670.97</td>\n",
       "      <td>54950.3660</td>\n",
       "      <td>54005.858</td>\n",
       "      <td>0.0</td>\n",
       "      <td>-1.0</td>\n",
       "    </tr>\n",
       "    <tr>\n",
       "      <th>2021-05-14 19:59:59.999</th>\n",
       "      <td>49841.45</td>\n",
       "      <td>54940.0465</td>\n",
       "      <td>52325.980</td>\n",
       "      <td>0.0</td>\n",
       "      <td>0.0</td>\n",
       "    </tr>\n",
       "    <tr>\n",
       "      <th>2021-05-15 19:59:59.999</th>\n",
       "      <td>46762.99</td>\n",
       "      <td>54824.8575</td>\n",
       "      <td>50515.350</td>\n",
       "      <td>0.0</td>\n",
       "      <td>0.0</td>\n",
       "    </tr>\n",
       "    <tr>\n",
       "      <th>2021-05-16 19:59:59.999</th>\n",
       "      <td>46431.50</td>\n",
       "      <td>54446.3630</td>\n",
       "      <td>48467.646</td>\n",
       "      <td>0.0</td>\n",
       "      <td>0.0</td>\n",
       "    </tr>\n",
       "    <tr>\n",
       "      <th>2021-05-17 19:59:59.999</th>\n",
       "      <td>43538.04</td>\n",
       "      <td>53872.6665</td>\n",
       "      <td>47248.990</td>\n",
       "      <td>0.0</td>\n",
       "      <td>0.0</td>\n",
       "    </tr>\n",
       "    <tr>\n",
       "      <th>2021-05-18 19:59:59.999</th>\n",
       "      <td>42849.78</td>\n",
       "      <td>53272.8445</td>\n",
       "      <td>45884.752</td>\n",
       "      <td>0.0</td>\n",
       "      <td>0.0</td>\n",
       "    </tr>\n",
       "    <tr>\n",
       "      <th>2021-05-19 19:59:59.999</th>\n",
       "      <td>36690.09</td>\n",
       "      <td>52429.5990</td>\n",
       "      <td>43254.480</td>\n",
       "      <td>0.0</td>\n",
       "      <td>0.0</td>\n",
       "    </tr>\n",
       "  </tbody>\n",
       "</table>\n",
       "</div>"
      ],
      "text/plain": [
       "                         ClosePrice      20_SMA      5_SMA  Signal  Position\n",
       "CloseDate                                                                   \n",
       "2021-04-25 19:59:59.999    49066.77  57237.9340  51143.668     0.0       0.0\n",
       "2021-04-26 19:59:59.999    54001.39  57038.4460  51186.420     0.0       0.0\n",
       "2021-04-27 19:59:59.999    55011.97  56991.3720  51850.622     0.0       0.0\n",
       "2021-04-28 19:59:59.999    54846.22  56829.8070  52594.838     0.0       0.0\n",
       "2021-04-29 19:59:59.999    53555.00  56600.4300  53296.270     0.0       0.0\n",
       "2021-04-30 19:59:59.999    57694.27  56496.6870  55021.770     0.0       0.0\n",
       "2021-05-01 19:59:59.999    57800.37  56386.5840  55781.566     0.0       0.0\n",
       "2021-05-02 19:59:59.999    56578.21  56222.4945  56094.814     0.0       0.0\n",
       "2021-05-03 19:59:59.999    57169.39  55902.2140  56559.448     1.0       1.0\n",
       "2021-05-04 19:59:59.999    53200.01  55414.2380  56488.450     1.0       0.0\n",
       "2021-05-05 19:59:59.999    57436.11  55128.0445  56436.818     1.0       0.0\n",
       "2021-05-06 19:59:59.999    56393.68  54880.9885  56155.480     1.0       0.0\n",
       "2021-05-07 19:59:59.999    57314.75  54746.3930  56302.788     1.0       0.0\n",
       "2021-05-08 19:59:59.999    58862.05  54881.9950  56641.320     1.0       0.0\n",
       "2021-05-09 19:59:59.999    58240.84  55012.3800  57649.486     1.0       0.0\n",
       "2021-05-10 19:59:59.999    55816.14  54981.9370  57325.492     1.0       0.0\n",
       "2021-05-11 19:59:59.999    56670.02  55126.0565  57380.760     1.0       0.0\n",
       "2021-05-12 19:59:59.999    49631.32  55023.0745  55844.074     1.0       0.0\n",
       "2021-05-13 19:59:59.999    49670.97  54950.3660  54005.858     0.0      -1.0\n",
       "2021-05-14 19:59:59.999    49841.45  54940.0465  52325.980     0.0       0.0\n",
       "2021-05-15 19:59:59.999    46762.99  54824.8575  50515.350     0.0       0.0\n",
       "2021-05-16 19:59:59.999    46431.50  54446.3630  48467.646     0.0       0.0\n",
       "2021-05-17 19:59:59.999    43538.04  53872.6665  47248.990     0.0       0.0\n",
       "2021-05-18 19:59:59.999    42849.78  53272.8445  45884.752     0.0       0.0\n",
       "2021-05-19 19:59:59.999    36690.09  52429.5990  43254.480     0.0       0.0"
      ]
     },
     "execution_count": 53,
     "metadata": {},
     "output_type": "execute_result"
    }
   ],
   "source": [
    "df[300:325]"
   ]
  },
  {
   "cell_type": "code",
   "execution_count": 28,
   "metadata": {
    "collapsed": true,
    "slideshow": {
     "slide_type": "slide"
    }
   },
   "outputs": [
    {
     "data": {
      "image/png": "[encoded data removed]",
      "text/plain": [
       "<Figure size 1440x720 with 1 Axes>"
      ]
     },
     "metadata": {},
     "output_type": "display_data"
    }
   ],
   "source": [
    "plt.figure(figsize = (20,10))\n",
    "# plot close price, short-term and long-term moving averages \n",
    "df['ClosePrice'].plot(color = 'k', label= 'ClosePrice') \n",
    "df['5_SMA'].plot(color = 'b',label = \"5-day SMA\") \n",
    "df['20_SMA'].plot(color = 'g', label = \"20-day SMA\")\n",
    "\n",
    "# plot ‘buy’ signals\n",
    "plt.plot(df[df['Position'] == 1].index, \n",
    "         df['5_SMA'][df['Position'] == 1], \n",
    "         \"^\", markersize = 15, color = 'g', label = 'buy')\n",
    "\n",
    "# plot ‘sell’ signals\n",
    "plt.plot(df[df['Position'] == -1].index, \n",
    "         df['5_SMA'][df['Position'] == -1], \n",
    "         \"v\", markersize = 15, color = 'r', label = 'sell')\n",
    "plt.ylabel('Price in US Tether', fontsize = 15 )\n",
    "plt.xlabel('Date', fontsize = 15 )\n",
    "plt.title('BTC Value', fontsize = 20)\n",
    "plt.legend()\n",
    "plt.grid(True)"
   ]
  }
 ],
 "metadata": {
  "kernelspec": {
   "display_name": "Python 3.7 (CS703)",
   "language": "python",
   "name": "python3.7_cs703"
  },
  "language_info": {
   "codemirror_mode": {
    "name": "ipython",
    "version": 3
   },
   "file_extension": ".py",
   "mimetype": "text/x-python",
   "name": "python",
   "nbconvert_exporter": "python",
   "pygments_lexer": "ipython3",
   "version": "3.7.7"
  },
  "varInspector": {
   "cols": {
    "lenName": 16,
    "lenType": 16,
    "lenVar": 40
   },
   "kernels_config": {
    "python": {
     "delete_cmd_postfix": "",
     "delete_cmd_prefix": "del ",
     "library": "var_list.py",
     "varRefreshCmd": "print(var_dic_list())"
    },
    "r": {
     "delete_cmd_postfix": ") ",
     "delete_cmd_prefix": "rm(",
     "library": "var_list.r",
     "varRefreshCmd": "cat(var_dic_list()) "
    }
   },
   "types_to_exclude": [
    "module",
    "function",
    "builtin_function_or_method",
    "instance",
    "_Feature"
   ],
   "window_display": false
  }
 },
 "nbformat": 4,
 "nbformat_minor": 4
}
